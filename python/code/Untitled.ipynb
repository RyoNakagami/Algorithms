{
 "cells": [
  {
   "cell_type": "code",
   "execution_count": 5,
   "metadata": {},
   "outputs": [],
   "source": []
  },
  {
   "cell_type": "code",
   "execution_count": 69,
   "metadata": {},
   "outputs": [],
   "source": [
    "sched3 = [(6.0, 8.0, 2), (6.5, 12.0, 1, ), (6.5, 7.0, 2), (7.0, 8.0, 2), (7.5, 10.0, 3),\n",
    "          (8.0, 9.0, 2), (8.0, 10.0, 1), (9.0, 12.0, 2), (9.5, 10.0, 4), (10.0, 11.0, 2),\n",
    "          (10.0, 12.0, 3), (11.0, 12.0, 7)]"
   ]
  },
  {
   "cell_type": "code",
   "execution_count": 159,
   "metadata": {},
   "outputs": [],
   "source": [
    "def select_card(card_list):\n",
    "    card_dict = {'C': 0, 'D': 0, 'H': 0, 'D': 0}\n",
    "    num_dict = {'C': [], 'D': [], 'H': [], 'D': []}\n",
    "    card_list = [] \n",
    "    for card in card_list:\n",
    "        card_dict[card[-1]]=+ 1\n",
    "        num_dict[card[-1]].append(int(card.split('_')[0]))\n",
    "    \n",
    "    card_suits = max(card_dict, key = car_dict.get)\n",
    "    card_1, card_last = num_dict.pop(card_suits)\n",
    "    \n",
    "    \n",
    "    \n",
    "    \n",
    "    \n",
    "    \n",
    "    \n",
    "    \n",
    "        \n",
    "        \n",
    "    \n",
    "    \n",
    "    "
   ]
  },
  {
   "cell_type": "code",
   "execution_count": 158,
   "metadata": {},
   "outputs": [
    {
     "data": {
      "text/plain": [
       "'D'"
      ]
     },
     "execution_count": 158,
     "metadata": {},
     "output_type": "execute_result"
    }
   ],
   "source": [
    "test_dict = {'C': 0, 'D': 0, 'H':0, 'D':0}\n",
    "test_dict['C'] += 2\n",
    "test_dict['D'] += 1\n",
    "test_dict.pop('C')\n",
    "test_dict.values()\n",
    "max(test_dict, key = test_dict.get)"
   ]
  },
  {
   "cell_type": "code",
   "execution_count": 163,
   "metadata": {},
   "outputs": [
    {
     "name": "stdout",
     "output_type": "stream",
     "text": [
      "hi\n"
     ]
    }
   ],
   "source": [
    "a = 3 \n",
    "b = 2\n",
    "a, b = min(a, b), max(a, b)\n",
    "a, b\n",
    "\n",
    "\n",
    "if 3 > b - a and b - a > 0:\n",
    "    print('hi')"
   ]
  },
  {
   "cell_type": "code",
   "execution_count": 66,
   "metadata": {},
   "outputs": [
    {
     "name": "stdout",
     "output_type": "stream",
     "text": [
      "17 µs ± 97.2 ns per loop (mean ± std. dev. of 7 runs, 100000 loops each)\n"
     ]
    }
   ],
   "source": [
    "%%timeit\n",
    "bestTimeToPartyR(sched)"
   ]
  },
  {
   "cell_type": "code",
   "execution_count": 337,
   "metadata": {},
   "outputs": [
    {
     "data": {
      "text/plain": [
       "'AAAA'"
      ]
     },
     "execution_count": 337,
     "metadata": {},
     "output_type": "execute_result"
    }
   ],
   "source": []
  },
  {
   "cell_type": "code",
   "execution_count": null,
   "metadata": {},
   "outputs": [],
   "source": []
  }
 ],
 "metadata": {
  "kernelspec": {
   "display_name": "Python 3",
   "language": "python",
   "name": "python3"
  },
  "language_info": {
   "codemirror_mode": {
    "name": "ipython",
    "version": 3
   },
   "file_extension": ".py",
   "mimetype": "text/x-python",
   "name": "python",
   "nbconvert_exporter": "python",
   "pygments_lexer": "ipython3",
   "version": "3.7.4"
  }
 },
 "nbformat": 4,
 "nbformat_minor": 4
}
