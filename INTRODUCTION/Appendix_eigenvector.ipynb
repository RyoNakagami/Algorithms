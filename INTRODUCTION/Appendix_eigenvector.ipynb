{
 "cells": [
  {
   "cell_type": "markdown",
   "metadata": {},
   "source": [
    "# 固有値解析\n",
    "### Agenda\n",
    "\n",
    "- PageRankアルゴリズムで用いられた固有値、固有ベクトルをレビューする"
   ]
  },
  {
   "cell_type": "markdown",
   "metadata": {},
   "source": [
    "### Clean slate"
   ]
  },
  {
   "cell_type": "code",
   "execution_count": 1,
   "metadata": {},
   "outputs": [],
   "source": [
    "## create the clean environment\n",
    "import gc\n",
    "import matplotlib.pyplot as plt\n",
    "\n",
    "def clear_all():\n",
    "    # Clears all the variables from the workspace\n",
    "    gl = globals().copy()\n",
    "    for var in gl:\n",
    "        if var in clean_env_var: continue\n",
    "        del globals()[var]\n",
    "    # Garbage collection:\n",
    "    gc.collect()\n",
    "\n",
    "def close_plots():\n",
    "  my_plots = plt.get_fignums()\n",
    "  for j in my_plots:\n",
    "    plt.close(plt.figure(j))\n",
    "\n",
    "clean_env_var = dir()\n",
    "clean_env_var.append('clean_env_var')"
   ]
  },
  {
   "cell_type": "code",
   "execution_count": 2,
   "metadata": {},
   "outputs": [],
   "source": [
    "clear_all()"
   ]
  },
  {
   "cell_type": "markdown",
   "metadata": {},
   "source": [
    "### Hardware"
   ]
  },
  {
   "cell_type": "code",
   "execution_count": 3,
   "metadata": {},
   "outputs": [
    {
     "name": "stdout",
     "output_type": "stream",
     "text": [
      "      Model Identifier: MacBookPro13,1\n",
      "      Processor Name: Dual-Core Intel Core i5\n",
      "      Processor Speed: 2 GHz\n",
      "      Number of Processors: 1\n",
      "      Memory: 16 GB\n"
     ]
    }
   ],
   "source": [
    "%%bash\n",
    "system_profiler SPHardwareDataType | grep -E \\\n",
    "\"Model Identifier\"\\|\"Processor Name\"\\|\"Processor Speed\"\\\n",
    "\\|\"Number of Processors\"\\|\"Memory:\""
   ]
  },
  {
   "cell_type": "markdown",
   "metadata": {},
   "source": [
    "### Python"
   ]
  },
  {
   "cell_type": "code",
   "execution_count": 4,
   "metadata": {},
   "outputs": [
    {
     "name": "stdout",
     "output_type": "stream",
     "text": [
      "Python 3.7.4\n"
     ]
    }
   ],
   "source": [
    "!python -V"
   ]
  },
  {
   "cell_type": "markdown",
   "metadata": {},
   "source": [
    "### Import"
   ]
  },
  {
   "cell_type": "code",
   "execution_count": 5,
   "metadata": {},
   "outputs": [],
   "source": [
    "import numpy as np"
   ]
  },
  {
   "cell_type": "markdown",
   "metadata": {},
   "source": [
    "## 1. 行列の固有値\n",
    "\n",
    "$$\n",
    "\\mathbf A\\mathbf x = \\lambda \\mathbf x\n",
    "$$\n",
    "\n",
    "- $\\mathbf A$: matrix\n",
    "- $\\lambda$: eigenvalue\n",
    "- $\\mathbf x$: eigenvector\n",
    "\n",
    "<img src = \"./fig/eigenvector_1.jpg\">\n",
    "\n",
    "### REMARKS\n",
    "\n",
    "- 実務上重要なのは最大・最小固有値（see [PageRank.ipynb](./PageRank.ipynb)）\n",
    "\n"
   ]
  },
  {
   "cell_type": "code",
   "execution_count": 6,
   "metadata": {},
   "outputs": [
    {
     "data": {
      "text/plain": [
       "array([[ 1., -1.],\n",
       "       [-1.,  2.]])"
      ]
     },
     "execution_count": 6,
     "metadata": {},
     "output_type": "execute_result"
    }
   ],
   "source": [
    "A = np.array([[1, -1],\n",
    "              [-1, 2]]\n",
    "             , dtype = np.float)\n",
    "A"
   ]
  },
  {
   "cell_type": "code",
   "execution_count": 7,
   "metadata": {},
   "outputs": [
    {
     "data": {
      "text/plain": [
       "array([0.38196601, 2.61803399])"
      ]
     },
     "execution_count": 7,
     "metadata": {},
     "output_type": "execute_result"
    }
   ],
   "source": [
    "v, w = np.linalg.eig(A)\n",
    "v"
   ]
  },
  {
   "cell_type": "markdown",
   "metadata": {},
   "source": [
    "## 2. べき乗法(Power Method)\n",
    "\n",
    "<img src = \"./fig/eigenvector_2.jpg\">\n",
    "<img src = \"./fig/eigenvector_3.jpg\">\n",
    "<img src = \"./fig/eigenvector_4.jpg\">\n",
    "<img src = \"./fig/eigenvector_5.jpg\">\n",
    "<img src = \"./fig/eigenvector_6.jpg\">"
   ]
  },
  {
   "cell_type": "markdown",
   "metadata": {},
   "source": [
    "### REMARKS\n",
    "\n",
    "- 重根が存在する場合、収束しないことがわかる\n",
    "- 現在認められている最適の方策は，ハウスホルダー(Householder)変換で行列を単純な三重対角化行列に変形してから，反復法で解を追い込んでいくやり方"
   ]
  },
  {
   "cell_type": "markdown",
   "metadata": {},
   "source": [
    "<img src = \"./fig/eigenvector_7.jpg\">"
   ]
  },
  {
   "cell_type": "markdown",
   "metadata": {},
   "source": [
    "### 3. Power MethodとNumpyの解の近似性を確かめる"
   ]
  },
  {
   "cell_type": "code",
   "execution_count": 8,
   "metadata": {},
   "outputs": [],
   "source": [
    "np.random.seed(42)\n",
    "N = 10\n",
    "A = np.random.randint(1, 10, (N, N))\n",
    "v, w = np.linalg.eig(A)\n",
    "max_index = np.argmax(abs(v))\n",
    "min_index = np.argmin(abs(v))"
   ]
  },
  {
   "cell_type": "code",
   "execution_count": 9,
   "metadata": {},
   "outputs": [
    {
     "data": {
      "text/plain": [
       "array([0.34378677+0.j, 0.32196125+0.j, 0.27634261+0.j, 0.33618891+0.j,\n",
       "       0.24971248+0.j, 0.24791024+0.j, 0.38099626+0.j, 0.36501253+0.j,\n",
       "       0.31742816+0.j, 0.29290723+0.j])"
      ]
     },
     "execution_count": 9,
     "metadata": {},
     "output_type": "execute_result"
    }
   ],
   "source": [
    "w.T[max_index]"
   ]
  },
  {
   "cell_type": "code",
   "execution_count": 10,
   "metadata": {},
   "outputs": [
    {
     "data": {
      "text/plain": [
       "array([-0.08645534+0.j, -0.47794872+0.j,  0.01792275+0.j,  0.35808689+0.j,\n",
       "       -0.61514336+0.j, -0.11707273+0.j,  0.18258893+0.j,  0.44342927+0.j,\n",
       "       -0.04146081+0.j,  0.10839023+0.j])"
      ]
     },
     "execution_count": 10,
     "metadata": {},
     "output_type": "execute_result"
    }
   ],
   "source": [
    "w.T[min_index]"
   ]
  },
  {
   "cell_type": "code",
   "execution_count": 11,
   "metadata": {},
   "outputs": [],
   "source": [
    "def power_method(A, init, iteration = 2000, eps = 1e-5):\n",
    "    def update_rule(x):\n",
    "        y = A @ x\n",
    "        x = y/np.linalg.norm(y, ord=2)\n",
    "        return x\n",
    "    \n",
    "    i = 0\n",
    "    x_0 = init\n",
    "    x_1 = update_rule(x = init)\n",
    "    while np.allclose(x_1, x_0, atol = eps, rtol = 0) and i < iteration:\n",
    "        i += 1\n",
    "        x_0, x_1 = x_1, update_rule(x_1)\n",
    "    \n",
    "    return x_1\n",
    "        \n",
    "        "
   ]
  },
  {
   "cell_type": "code",
   "execution_count": 12,
   "metadata": {},
   "outputs": [
    {
     "data": {
      "text/plain": [
       "array([0.34219629, 0.31269661, 0.28319693, 0.33629635, 0.25959719,\n",
       "       0.25959719, 0.37169597, 0.36579603, 0.31859655, 0.28909687])"
      ]
     },
     "execution_count": 12,
     "metadata": {},
     "output_type": "execute_result"
    }
   ],
   "source": [
    "power_method(A = A, init = np.ones(N))"
   ]
  },
  {
   "cell_type": "markdown",
   "metadata": {},
   "source": [
    "計算精度は低いので素直に`numpy.linalg`を用いた方が良い"
   ]
  },
  {
   "cell_type": "code",
   "execution_count": null,
   "metadata": {},
   "outputs": [],
   "source": []
  }
 ],
 "metadata": {
  "kernelspec": {
   "display_name": "Python 3",
   "language": "python",
   "name": "python3"
  },
  "language_info": {
   "codemirror_mode": {
    "name": "ipython",
    "version": 3
   },
   "file_extension": ".py",
   "mimetype": "text/x-python",
   "name": "python",
   "nbconvert_exporter": "python",
   "pygments_lexer": "ipython3",
   "version": "3.7.4"
  }
 },
 "nbformat": 4,
 "nbformat_minor": 4
}
