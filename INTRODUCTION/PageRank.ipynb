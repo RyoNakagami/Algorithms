{
 "cells": [
  {
   "cell_type": "markdown",
   "metadata": {},
   "source": [
    "# Random Surfer Algorithm (PageRank Algorithm) の紹介"
   ]
  },
  {
   "cell_type": "code",
   "execution_count": 1,
   "metadata": {},
   "outputs": [],
   "source": [
    "## create the clean environment\n",
    "import gc\n",
    "import matplotlib.pyplot as plt\n",
    "\n",
    "def clear_all():\n",
    "    # Clears all the variables from the workspace\n",
    "    gl = globals().copy()\n",
    "    for var in gl:\n",
    "        if var in clean_env_var: continue\n",
    "        del globals()[var]\n",
    "    # Garbage collection:\n",
    "    gc.collect()\n",
    "\n",
    "def close_plots():\n",
    "  my_plots = plt.get_fignums()\n",
    "  for j in my_plots:\n",
    "    plt.close(plt.figure(j))\n",
    "\n",
    "clean_env_var = dir()\n",
    "clean_env_var.append('clean_env_var')"
   ]
  },
  {
   "cell_type": "code",
   "execution_count": 2,
   "metadata": {},
   "outputs": [],
   "source": [
    "clear_all()"
   ]
  },
  {
   "cell_type": "markdown",
   "metadata": {},
   "source": [
    "### Hardware"
   ]
  },
  {
   "cell_type": "code",
   "execution_count": 3,
   "metadata": {},
   "outputs": [
    {
     "name": "stdout",
     "output_type": "stream",
     "text": [
      "      Model Identifier: MacBookPro13,1\n",
      "      Processor Name: Dual-Core Intel Core i5\n",
      "      Processor Speed: 2 GHz\n",
      "      Number of Processors: 1\n",
      "      Memory: 16 GB\n"
     ]
    }
   ],
   "source": [
    "%%bash\n",
    "system_profiler SPHardwareDataType | grep -E \\\n",
    "\"Model Identifier\"\\|\"Processor Name\"\\|\"Processor Speed\"\\\n",
    "\\|\"Number of Processors\"\\|\"Memory:\""
   ]
  },
  {
   "cell_type": "markdown",
   "metadata": {},
   "source": [
    "### Python"
   ]
  },
  {
   "cell_type": "code",
   "execution_count": 4,
   "metadata": {},
   "outputs": [
    {
     "name": "stdout",
     "output_type": "stream",
     "text": [
      "Python 3.7.4\n"
     ]
    }
   ],
   "source": [
    "!python -V"
   ]
  },
  {
   "cell_type": "markdown",
   "metadata": {},
   "source": [
    "### Import"
   ]
  },
  {
   "cell_type": "code",
   "execution_count": 5,
   "metadata": {},
   "outputs": [],
   "source": [
    "import numpy as np\n",
    "import pprint"
   ]
  },
  {
   "cell_type": "markdown",
   "metadata": {},
   "source": [
    "## PageRankの考え方\n",
    "\n",
    "- 多くのページから参照されているページの質は高い\n",
    "- 質の高いページから参照されているページは質が高い（Authority）\n",
    "\n",
    "\n",
    "```\n",
    "多くの良質なページからリンクされているページはやはり良質なページである\n",
    "```"
   ]
  },
  {
   "cell_type": "markdown",
   "metadata": {},
   "source": [
    "### 今回扱うweb pageの構造\n",
    "\n",
    "<img src = \"./fig/page_rank_sample.png\">\n"
   ]
  },
  {
   "cell_type": "markdown",
   "metadata": {
    "toc-hr-collapsed": true
   },
   "source": [
    "### 今回の実装方針\n",
    "\n",
    "1. Page遷移行列, G, を作る(ノード同士が結ばれている場合は1 else 0, 行から列への移動)\n",
    "2. 転置した行列Gのそれぞれの列ベクトルの総和が1となるように規格化して「推移確率行列」をつくる\n",
    "3. 初期ベクトルとして，すべての要素が同じ値で，足して1になるような長さ7の列ベクトルを用意する\n",
    "4. 初期ベクトルに何度か(例えば10回，あるいは収束するまで)推移確率行列を掛ける．この操作は，行列の最大固有値に属する固有ベクトルを見つけることに相当する．\n",
    "5. 得られたベクトルの各要素が対応するページの得点とみなせ，得点順にランクが高くなる．"
   ]
  },
  {
   "cell_type": "code",
   "execution_count": 6,
   "metadata": {},
   "outputs": [
    {
     "data": {
      "text/plain": [
       "array([[0, 1, 1, 1, 1, 0, 1],\n",
       "       [1, 0, 0, 0, 0, 0, 0],\n",
       "       [1, 1, 0, 0, 0, 0, 0],\n",
       "       [0, 1, 1, 0, 1, 0, 0],\n",
       "       [1, 0, 1, 1, 0, 1, 0],\n",
       "       [1, 0, 0, 0, 1, 0, 0],\n",
       "       [0, 0, 0, 0, 1, 0, 0]])"
      ]
     },
     "execution_count": 6,
     "metadata": {},
     "output_type": "execute_result"
    }
   ],
   "source": [
    "G = np.array([[0, 1, 1, 1, 1, 0, 1],\n",
    "              [1, 0, 0, 0, 0, 0, 0],\n",
    "              [1, 1, 0, 0, 0, 0, 0],\n",
    "              [0, 1, 1, 0, 1, 0, 0],\n",
    "              [1, 0, 1, 1, 0, 1, 0],\n",
    "              [1, 0, 0, 0, 1, 0, 0],\n",
    "              [0, 0, 0, 0, 1, 0, 0]]\n",
    "            )\n",
    "G"
   ]
  },
  {
   "cell_type": "code",
   "execution_count": 7,
   "metadata": {},
   "outputs": [
    {
     "data": {
      "text/plain": [
       "array([[0, 1, 1, 0, 1, 1, 0],\n",
       "       [1, 0, 1, 1, 0, 0, 0],\n",
       "       [1, 0, 0, 1, 1, 0, 0],\n",
       "       [1, 0, 0, 0, 1, 0, 0],\n",
       "       [1, 0, 0, 1, 0, 1, 1],\n",
       "       [0, 0, 0, 0, 1, 0, 0],\n",
       "       [1, 0, 0, 0, 0, 0, 0]])"
      ]
     },
     "execution_count": 7,
     "metadata": {},
     "output_type": "execute_result"
    }
   ],
   "source": [
    "t_G = G.T\n",
    "t_G"
   ]
  },
  {
   "cell_type": "code",
   "execution_count": 8,
   "metadata": {},
   "outputs": [
    {
     "data": {
      "text/plain": [
       "array([[0.2       , 0.        , 0.        , 0.        , 0.        ,\n",
       "        0.        , 0.        ],\n",
       "       [0.        , 1.        , 0.        , 0.        , 0.        ,\n",
       "        0.        , 0.        ],\n",
       "       [0.        , 0.        , 0.5       , 0.        , 0.        ,\n",
       "        0.        , 0.        ],\n",
       "       [0.        , 0.        , 0.        , 0.33333333, 0.        ,\n",
       "        0.        , 0.        ],\n",
       "       [0.        , 0.        , 0.        , 0.        , 0.25      ,\n",
       "        0.        , 0.        ],\n",
       "       [0.        , 0.        , 0.        , 0.        , 0.        ,\n",
       "        0.5       , 0.        ],\n",
       "       [0.        , 0.        , 0.        , 0.        , 0.        ,\n",
       "        0.        , 1.        ]])"
      ]
     },
     "execution_count": 8,
     "metadata": {},
     "output_type": "execute_result"
    }
   ],
   "source": [
    "prob = 1/t_G.sum(0)\n",
    "prob = np.diag(prob)\n",
    "prob"
   ]
  },
  {
   "cell_type": "code",
   "execution_count": 9,
   "metadata": {},
   "outputs": [
    {
     "name": "stdout",
     "output_type": "stream",
     "text": [
      "[[0.     1.     0.5    0.     0.25   0.5    0.    ]\n",
      " [0.2    0.     0.5    0.3333 0.     0.     0.    ]\n",
      " [0.2    0.     0.     0.3333 0.25   0.     0.    ]\n",
      " [0.2    0.     0.     0.     0.25   0.     0.    ]\n",
      " [0.2    0.     0.     0.3333 0.     0.5    1.    ]\n",
      " [0.     0.     0.     0.     0.25   0.     0.    ]\n",
      " [0.2    0.     0.     0.     0.     0.     0.    ]]\n"
     ]
    }
   ],
   "source": [
    "tran_mat = t_G @ prob\n",
    "np.set_printoptions(precision=4)\n",
    "print(tran_mat)"
   ]
  },
  {
   "cell_type": "code",
   "execution_count": 10,
   "metadata": {},
   "outputs": [
    {
     "data": {
      "text/plain": [
       "array([0.1429, 0.1429, 0.1429, 0.1429, 0.1429, 0.1429, 0.1429])"
      ]
     },
     "execution_count": 10,
     "metadata": {},
     "output_type": "execute_result"
    }
   ],
   "source": [
    "init = np.ones(len(G))/len(G)\n",
    "init"
   ]
  },
  {
   "cell_type": "code",
   "execution_count": 11,
   "metadata": {},
   "outputs": [
    {
     "data": {
      "text/plain": [
       "array([[0.35  , 0.    , 0.5   , 0.5833, 0.25  , 0.125 , 0.25  ],\n",
       "       [0.1667, 0.2   , 0.1   , 0.1667, 0.2583, 0.1   , 0.    ],\n",
       "       [0.1167, 0.2   , 0.1   , 0.0833, 0.1333, 0.225 , 0.25  ],\n",
       "       [0.05  , 0.2   , 0.1   , 0.0833, 0.05  , 0.225 , 0.25  ],\n",
       "       [0.2667, 0.2   , 0.1   , 0.    , 0.2583, 0.1   , 0.    ],\n",
       "       [0.05  , 0.    , 0.    , 0.0833, 0.    , 0.125 , 0.25  ],\n",
       "       [0.    , 0.2   , 0.1   , 0.    , 0.05  , 0.1   , 0.    ]])"
      ]
     },
     "execution_count": 11,
     "metadata": {},
     "output_type": "execute_result"
    }
   ],
   "source": [
    "tran_mat @ tran_mat"
   ]
  },
  {
   "cell_type": "code",
   "execution_count": 12,
   "metadata": {},
   "outputs": [
    {
     "data": {
      "text/plain": [
       "array([[0.35  , 0.    , 0.5   , 0.5833, 0.25  , 0.125 , 0.25  ],\n",
       "       [0.1667, 0.2   , 0.1   , 0.1667, 0.2583, 0.1   , 0.    ],\n",
       "       [0.1167, 0.2   , 0.1   , 0.0833, 0.1333, 0.225 , 0.25  ],\n",
       "       [0.05  , 0.2   , 0.1   , 0.0833, 0.05  , 0.225 , 0.25  ],\n",
       "       [0.2667, 0.2   , 0.1   , 0.    , 0.2583, 0.1   , 0.    ],\n",
       "       [0.05  , 0.    , 0.    , 0.0833, 0.    , 0.125 , 0.25  ],\n",
       "       [0.    , 0.2   , 0.1   , 0.    , 0.05  , 0.1   , 0.    ]])"
      ]
     },
     "execution_count": 12,
     "metadata": {},
     "output_type": "execute_result"
    }
   ],
   "source": [
    "np.linalg.matrix_power(tran_mat, 2)"
   ]
  },
  {
   "cell_type": "markdown",
   "metadata": {},
   "source": [
    "#### simulation 10回"
   ]
  },
  {
   "cell_type": "code",
   "execution_count": 13,
   "metadata": {},
   "outputs": [
    {
     "data": {
      "text/plain": [
       "array([0.3033, 0.1663, 0.1406, 0.1053, 0.1792, 0.0446, 0.0607])"
      ]
     },
     "execution_count": 13,
     "metadata": {},
     "output_type": "execute_result"
    }
   ],
   "source": [
    "np.linalg.matrix_power(tran_mat, 10) @ init"
   ]
  },
  {
   "cell_type": "markdown",
   "metadata": {},
   "source": [
    "#### simulation 1000回"
   ]
  },
  {
   "cell_type": "code",
   "execution_count": 14,
   "metadata": {},
   "outputs": [
    {
     "data": {
      "text/plain": [
       "array([0.3035, 0.1661, 0.1406, 0.1054, 0.1789, 0.0447, 0.0607])"
      ]
     },
     "execution_count": 14,
     "metadata": {},
     "output_type": "execute_result"
    }
   ],
   "source": [
    "np.linalg.matrix_power(tran_mat, 1000) @ init"
   ]
  },
  {
   "cell_type": "markdown",
   "metadata": {},
   "source": [
    "#### 初期ベクトルをランダムに選ぶ"
   ]
  },
  {
   "cell_type": "code",
   "execution_count": 15,
   "metadata": {},
   "outputs": [
    {
     "data": {
      "text/plain": [
       "array([0.1892, 0.1892, 0.1351, 0.0811, 0.2432, 0.027 , 0.1351])"
      ]
     },
     "execution_count": 15,
     "metadata": {},
     "output_type": "execute_result"
    }
   ],
   "source": [
    "init_2 = np.random.randint(1, 10, 7)\n",
    "init_2 = init_2/init_2.sum()\n",
    "init_2"
   ]
  },
  {
   "cell_type": "code",
   "execution_count": 16,
   "metadata": {},
   "outputs": [
    {
     "data": {
      "text/plain": [
       "array([0.3035, 0.1661, 0.1406, 0.1054, 0.1789, 0.0447, 0.0607])"
      ]
     },
     "execution_count": 16,
     "metadata": {},
     "output_type": "execute_result"
    }
   ],
   "source": [
    "res = np.linalg.matrix_power(tran_mat, 100) @ init_2\n",
    "res"
   ]
  },
  {
   "cell_type": "markdown",
   "metadata": {},
   "source": [
    "### 固有ベクトルとの関連"
   ]
  },
  {
   "cell_type": "code",
   "execution_count": 17,
   "metadata": {},
   "outputs": [],
   "source": [
    "# w: The eigenvalues, v: The eigenvectors\n",
    "w, v = np.linalg.eig(tran_mat)"
   ]
  },
  {
   "cell_type": "code",
   "execution_count": 18,
   "metadata": {},
   "outputs": [
    {
     "data": {
      "text/plain": [
       "array([0.6995+0.j, 0.3829+0.j, 0.324 +0.j, 0.243 +0.j, 0.4123+0.j,\n",
       "       0.1031+0.j, 0.1399+0.j])"
      ]
     },
     "execution_count": 18,
     "metadata": {},
     "output_type": "execute_result"
    }
   ],
   "source": [
    "index = np.argmax(w)\n",
    "eig = v.T[index]\n",
    "eig"
   ]
  },
  {
   "cell_type": "code",
   "execution_count": 19,
   "metadata": {},
   "outputs": [
    {
     "data": {
      "text/plain": [
       "array([0.3035+0.j, 0.1661+0.j, 0.1406+0.j, 0.1054+0.j, 0.1789+0.j,\n",
       "       0.0447+0.j, 0.0607+0.j])"
      ]
     },
     "execution_count": 19,
     "metadata": {},
     "output_type": "execute_result"
    }
   ],
   "source": [
    "eig * np.linalg.norm(res)/np.linalg.norm(eig)"
   ]
  },
  {
   "cell_type": "markdown",
   "metadata": {},
   "source": [
    "`numpy.linalg.eig`で出力されるeigenvectorはnormalizedされているので一致はしないが、順序は同じ。ノルムをコントロールすると一致する。"
   ]
  },
  {
   "cell_type": "markdown",
   "metadata": {},
   "source": [
    "## 離脱を踏まえたPagerank\n",
    "### web page構造\n",
    "\n",
    "web pageがA, B, C, D, Eと5つ存在し、参照リンクは以下\n",
    "\n",
    "- A→B\n",
    "- B→E\n",
    "- C→A\n",
    "- D→A\n",
    "- E→A\n",
    "\n",
    "どのページにも等確率で流入し、0.15の確率でsession離脱する仮定をおく → \n",
    "\n",
    "### 期待するoutput\n",
    "\n",
    "```\n",
    "A > B > E > C = D\n",
    "```\n"
   ]
  },
  {
   "cell_type": "code",
   "execution_count": 20,
   "metadata": {},
   "outputs": [
    {
     "data": {
      "text/plain": [
       "array([[0.  , 0.85, 0.  , 0.  , 0.  , 0.15],\n",
       "       [0.  , 0.  , 0.  , 0.  , 0.85, 0.15],\n",
       "       [0.85, 0.  , 0.  , 0.  , 0.  , 0.15],\n",
       "       [0.85, 0.  , 0.  , 0.  , 0.  , 0.15],\n",
       "       [0.85, 0.  , 0.  , 0.  , 0.  , 0.15],\n",
       "       [0.2 , 0.2 , 0.2 , 0.2 , 0.2 , 0.  ]])"
      ]
     },
     "execution_count": 20,
     "metadata": {},
     "output_type": "execute_result"
    }
   ],
   "source": [
    "G = np.array([[0, 0.85, 0, 0, 0, 0.15],\n",
    "              [0, 0, 0, 0, 0.85, 0.15],\n",
    "              [0.85, 0, 0, 0, 0, 0.15],\n",
    "              [0.85, 0, 0, 0, 0, 0.15],\n",
    "              [0.85, 0, 0, 0, 0, 0.15],\n",
    "              [0.2, 0.2, 0.2, 0.2, 0.2, 0]], dtype = float\n",
    "            )\n",
    "G"
   ]
  },
  {
   "cell_type": "code",
   "execution_count": 21,
   "metadata": {},
   "outputs": [
    {
     "data": {
      "text/plain": [
       "array([0.2888, 0.2716, 0.0261, 0.0261, 0.2569, 0.1304])"
      ]
     },
     "execution_count": 21,
     "metadata": {},
     "output_type": "execute_result"
    }
   ],
   "source": [
    "t_G = G.T\n",
    "init = np.ones(len(G))/len(G)\n",
    "np.linalg.matrix_power(t_G, 1000) @ init"
   ]
  },
  {
   "cell_type": "code",
   "execution_count": null,
   "metadata": {},
   "outputs": [],
   "source": []
  },
  {
   "cell_type": "code",
   "execution_count": null,
   "metadata": {},
   "outputs": [],
   "source": []
  }
 ],
 "metadata": {
  "kernelspec": {
   "display_name": "Python 3",
   "language": "python",
   "name": "python3"
  },
  "language_info": {
   "codemirror_mode": {
    "name": "ipython",
    "version": 3
   },
   "file_extension": ".py",
   "mimetype": "text/x-python",
   "name": "python",
   "nbconvert_exporter": "python",
   "pygments_lexer": "ipython3",
   "version": "3.7.4"
  }
 },
 "nbformat": 4,
 "nbformat_minor": 4
}
