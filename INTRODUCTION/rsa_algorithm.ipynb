{
 "cells": [
  {
   "cell_type": "markdown",
   "metadata": {},
   "source": [
    "# 公開鍵暗号アルゴリズム RSAとPython"
   ]
  },
  {
   "cell_type": "code",
   "execution_count": 1,
   "metadata": {},
   "outputs": [],
   "source": [
    "## create the clean environment\n",
    "import gc\n",
    "import matplotlib.pyplot as plt\n",
    "\n",
    "def clear_all():\n",
    "    # Clears all the variables from the workspace\n",
    "    gl = globals().copy()\n",
    "    for var in gl:\n",
    "        if var in clean_env_var: continue\n",
    "        del globals()[var]\n",
    "    # Garbage collection:\n",
    "    gc.collect()\n",
    "\n",
    "def close_plots():\n",
    "  my_plots = plt.get_fignums()\n",
    "  for j in my_plots:\n",
    "    plt.close(plt.figure(j))\n",
    "\n",
    "clean_env_var = dir()\n",
    "clean_env_var.append('clean_env_var')"
   ]
  },
  {
   "cell_type": "code",
   "execution_count": 2,
   "metadata": {},
   "outputs": [],
   "source": [
    "clear_all()"
   ]
  },
  {
   "cell_type": "markdown",
   "metadata": {},
   "source": [
    "### Hardware"
   ]
  },
  {
   "cell_type": "code",
   "execution_count": 3,
   "metadata": {},
   "outputs": [
    {
     "name": "stdout",
     "output_type": "stream",
     "text": [
      "      Model Identifier: MacBookPro13,1\n",
      "      Processor Name: Dual-Core Intel Core i5\n",
      "      Processor Speed: 2 GHz\n",
      "      Number of Processors: 1\n",
      "      Memory: 16 GB\n"
     ]
    }
   ],
   "source": [
    "%%bash\n",
    "system_profiler SPHardwareDataType | grep -E \\\n",
    "\"Model Identifier\"\\|\"Processor Name\"\\|\"Processor Speed\"\\\n",
    "\\|\"Number of Processors\"\\|\"Memory:\""
   ]
  },
  {
   "cell_type": "markdown",
   "metadata": {},
   "source": [
    "### Python"
   ]
  },
  {
   "cell_type": "code",
   "execution_count": 4,
   "metadata": {},
   "outputs": [
    {
     "name": "stdout",
     "output_type": "stream",
     "text": [
      "Python 3.7.4\n"
     ]
    }
   ],
   "source": [
    "!python -V"
   ]
  },
  {
   "cell_type": "markdown",
   "metadata": {},
   "source": [
    "### Import"
   ]
  },
  {
   "cell_type": "code",
   "execution_count": 5,
   "metadata": {},
   "outputs": [],
   "source": [
    "import numpy as np"
   ]
  },
  {
   "cell_type": "markdown",
   "metadata": {},
   "source": [
    "## 1. RSAとは\n",
    "\n",
    "- RSA のアルゴリズムはべき乗と余剰のみで表すことのできる、非常にシンプルなもの\n",
    "- $\\{E, N\\}$のペアが公開鍵に相当するとき\n",
    "\n",
    "$$\n",
    "\\text{暗号文} = \\text{平文}^E mod N\n",
    "$$\n",
    "\n",
    "- $\\{D, N\\}$のペアが複合鍵に相当するとき\n",
    "\n",
    "$$\n",
    "\\text{平文} = \\text{暗号文}^E mod N\n",
    "$$\n",
    "\n",
    "### RSAの仕組み\n",
    "\n",
    "<img src = \"./fig/RSA_1.jpg\">\n"
   ]
  },
  {
   "cell_type": "markdown",
   "metadata": {},
   "source": [
    "## 2. RSAがなぜ機能するのか\n",
    "\n",
    "証明の入る前に合同式の定理のおさらいをする\n",
    "\n",
    "### 合同式の性質 1\n",
    "\n",
    "- p を自然数とする\n",
    "- $\\mathbb Z_p \\equiv \\{0, 1, ..., p-1\\}$\n",
    "\n",
    "\n",
    "$a \\equiv b \\text{ mod }p$のとき、任意の自然数cについて\n",
    "\n",
    "$$\n",
    "\\begin{aligned}\n",
    "a + c &\\equiv b + c \\ \\ (\\text{ mod } p)\\\\\n",
    "a - c &\\equiv b - c  \\ \\ (\\text{ mod } p)\\\\\n",
    "ac &\\equiv bc  \\ \\ (\\text{ mod } p)\\\\\n",
    "a^c &\\equiv b^c  \\ \\ (\\text{ mod } p)\n",
    "\\end{aligned}\n",
    "$$\n",
    "\n",
    "### 合同式の性質 2\n",
    "\n",
    "a, pを互いに素な自然数とする。このとき、任意に$b\\in [0, p-1]$に選んできたとき、以下の条件を満たす$x\\in \\mathbb Z_p$はbに対してただ一つしか存在しない：\n",
    "\n",
    "$$\n",
    "ax \\equiv b \\ \\ (\\text{ mod } p)\n",
    "$$\n",
    "\n",
    "\n",
    "### Chinese Remainder Theorem\n",
    "\n",
    "p, qを互いに素な自然数とする。このとき$x \\equiv a \\  \\ \\text{ mod } p$ and $x \\equiv a \\  \\ \\text{ mod } q$ならば、$x \\equiv a \\  \\ \\text{ mod } pq$\n",
    "\n",
    "#### 証明\n",
    "\n",
    "$x \\equiv b \\text{ mod } pq$、　ただし$b < pq$とする。WTS : $b = a$。\n",
    "\n",
    "$x \\equiv a \\  \\ \\text{ mod } p$より$b \\equiv a \\  \\ \\text{ mod } p$。同様に、$b \\equiv a \\  \\ \\text{ mod } q$\n",
    "\n",
    "よって、$b = pt_1 + a = qt_2 + b$とかける。このとき$pt_1 = qt_2$だが、p,qは互いに素なので一番小さい場合でも$b = pq + a$.仮定より、$b < pq$なので $b = a$.\n",
    "\n",
    "\n",
    "### RSAの復号の証明\n",
    "\n",
    "$$\n",
    "m^{k_1k_2} \\equiv m \\text{ mod } n\n",
    "$$\n",
    "を証明すれば良い。chinese remainder theoremより\n",
    "\n",
    "$$\n",
    "m^{k_1k_2} \\equiv m \\text{ mod } p\n",
    "$$\n",
    "を証明すれば十分（対称性より）。\n",
    "\n",
    "\n",
    "- mがpの倍数のとき自明。\n",
    "- mがpの倍数ではないとき\n",
    "\n",
    "$k_1k_2 - 1$が$p-1$の倍数になるように設定してあるので、$T\\in \\mathbb N$\n",
    "\n",
    "$$\n",
    "k_1k_2 = 1 + T(p-1)\n",
    "$$\n",
    "\n",
    "Then,\n",
    "\n",
    "$$\n",
    "m^{k_1k_2}=m\\cdot (m^{p-1})^N\n",
    "$$\n",
    "\n",
    "\n",
    "フェルマーの小定理とmがpの倍数ではないので\n",
    "\n",
    "$$\n",
    "m^{p-1} \\equiv 1^N\n",
    "$$\n",
    "\n",
    "よって\n",
    "\n",
    "$$\n",
    "m^{k_1k_2}=m\\cdot (m^{p-1})^N\\equiv m\\cdot 1^N=m\n",
    "$$\n"
   ]
  },
  {
   "cell_type": "markdown",
   "metadata": {},
   "source": [
    "## 3. RSAアルゴリズムの実装"
   ]
  },
  {
   "cell_type": "code",
   "execution_count": 6,
   "metadata": {},
   "outputs": [],
   "source": [
    "def key_generator(p, q):\n",
    "    N = p * q\n",
    "    L = np.lcm(p - 1, q - 1) # lcmでも良い\n",
    "    \n",
    "    for i in range(2, L):\n",
    "        if np.gcd(i, L) == 1:\n",
    "            k1 = i\n",
    "            break\n",
    "            \n",
    "    for i in range(2, L):\n",
    "        if (k1 * i) % L == 1:\n",
    "            k2 = i\n",
    "            break\n",
    "            \n",
    "    private, public = (k1, N), (k2, N)\n",
    "    return private, public\n",
    "\n",
    "def rsa_encoder(text, public_key):\n",
    "    k1, N = public_key\n",
    "    plain_unicode = [ord(char) for char in text]\n",
    "    encrypted_unicode = [pow(i, k1, N) for i in plain_unicode]\n",
    "    encrypted_text = ''.join(chr(i) for i in encrypted_unicode)\n",
    "    return encrypted_text\n",
    "\n",
    "def rsa_decoder(text, private_key):\n",
    "    k2, N = private_key\n",
    "    encrypted_unicode = [ord(char) for char in text]\n",
    "    decrypted_unicide = [pow(i, k2, N) for i in encrypted_unicode]\n",
    "    decrypted_text = ''.join(chr(i) for i in decrypted_unicode)\n",
    "    \n",
    "    return decrypted_text"
   ]
  },
  {
   "cell_type": "markdown",
   "metadata": {},
   "source": [
    "### Test"
   ]
  },
  {
   "cell_type": "code",
   "execution_count": 7,
   "metadata": {},
   "outputs": [
    {
     "name": "stdout",
     "output_type": "stream",
     "text": [
      "The Zen of Python, by Tim Peters\n",
      "\n",
      "Beautiful is better than ugly.\n",
      "Explicit is better than implicit.\n",
      "Simple is better than complex.\n",
      "Complex is better than complicated.\n",
      "Flat is better than nested.\n",
      "Sparse is better than dense.\n",
      "Readability counts.\n",
      "Special cases aren't special enough to break the rules.\n",
      "Although practicality beats purity.\n",
      "Errors should never pass silently.\n",
      "Unless explicitly silenced.\n",
      "In the face of ambiguity, refuse the temptation to guess.\n",
      "There should be one-- and preferably only one --obvious way to do it.\n",
      "Although that way may not be obvious at first unless you're Dutch.\n",
      "Now is better than never.\n",
      "Although never is often better than *right* now.\n",
      "If the implementation is hard to explain, it's a bad idea.\n",
      "If the implementation is easy to explain, it may be a good idea.\n",
      "Namespaces are one honking great idea -- let's do more of those!\n"
     ]
    }
   ],
   "source": [
    "import this"
   ]
  },
  {
   "cell_type": "code",
   "execution_count": 8,
   "metadata": {},
   "outputs": [],
   "source": [
    "test = \"\"\"\n",
    "The Zen of Python, by Tim Peters\n",
    "\n",
    "Beautiful is better than ugly.\n",
    "Explicit is better than implicit.\n",
    "Simple is better than complex.\n",
    "Complex is better than complicated.\n",
    "Flat is better than nested.\n",
    "Sparse is better than dense.\n",
    "Readability counts.\n",
    "Special cases aren't special enough to break the rules.\n",
    "Although practicality beats purity.\n",
    "Errors should never pass silently.\n",
    "Unless explicitly silenced.\n",
    "In the face of ambiguity, refuse the temptation to guess.\n",
    "There should be one-- and preferably only one --obvious way to do it.\n",
    "Although that way may not be obvious at first unless you're Dutch.\n",
    "Now is better than never.\n",
    "Although never is often better than *right* now.\n",
    "If the implementation is hard to explain, it's a bad idea.\n",
    "If the implementation is easy to explain, it may be a good idea.\n",
    "Namespaces are one honking great idea -- let's do more of those!\n",
    "\"\"\""
   ]
  },
  {
   "cell_type": "code",
   "execution_count": 9,
   "metadata": {},
   "outputs": [],
   "source": [
    "### 素数の設定\n",
    "p, q = 499, 929"
   ]
  },
  {
   "cell_type": "code",
   "execution_count": 10,
   "metadata": {},
   "outputs": [
    {
     "data": {
      "text/plain": [
       "((5, 463571), (92429, 463571))"
      ]
     },
     "execution_count": 10,
     "metadata": {},
     "output_type": "execute_result"
    }
   ],
   "source": [
    "private, public = key_generator(p, q)\n",
    "private, public"
   ]
  },
  {
   "cell_type": "code",
   "execution_count": 11,
   "metadata": {},
   "outputs": [
    {
     "name": "stdout",
     "output_type": "stream",
     "text": [
      "񬶱ᔎ뾄\u0002񀺆뾄𜚋\u0002𝷏苰\u0002񮉼񭰂ꮷ𝷏𜚋𑩽\u0002񜼳񭰂\u0002ᔎ񪟹𮅭\u0002񮉼뾄ꮷ뾄𪳿𲁻񬶱񬶱񉱘뾄෕񞗣ꮷ񪟹苰񞗣𔙸\u0002񪟹𲁻\u0002񜼳뾄ꮷꮷ뾄𪳿\u0002ꮷ෕𜚋\u0002񞗣񃀃𔙸񭰂񕾃񬶱𡆯촥𢧎𔙸񪟹檭񪟹ꮷ\u0002񪟹𲁻\u0002񜼳뾄ꮷꮷ뾄𪳿\u0002ꮷ෕𜚋\u0002񪟹𮅭𢧎𔙸񪟹檭񪟹ꮷ񕾃񬶱񧙭񪟹𮅭𢧎𔙸뾄\u0002񪟹𲁻\u0002񜼳뾄ꮷꮷ뾄𪳿\u0002ꮷ෕𜚋\u0002檭𝷏𮅭𢧎𔙸뾄촥񕾃񬶱񋾡𝷏𮅭𢧎𔙸뾄촥\u0002񪟹𲁻\u0002񜼳뾄ꮷꮷ뾄𪳿\u0002ꮷ෕𜚋\u0002檭𝷏𮅭𢧎𔙸񪟹檭෕ꮷ뾄񋘫񕾃񬶱𩧯𔙸෕ꮷ\u0002񪟹𲁻\u0002񜼳뾄ꮷꮷ뾄𪳿\u0002ꮷ෕𜚋\u0002𜚋뾄𲁻ꮷ뾄񋘫񕾃񬶱񧙭𢧎෕𪳿𲁻뾄\u0002񪟹𲁻\u0002񜼳뾄ꮷꮷ뾄𪳿\u0002ꮷ෕𜚋\u0002񋘫뾄𜚋𲁻뾄񕾃񬶱𢪟뾄෕񋘫෕񜼳񪟹𔙸񪟹ꮷ񭰂\u0002檭𝷏񞗣𜚋ꮷ𲁻񕾃񬶱񧙭𢧎뾄檭񪟹෕𔙸\u0002檭෕𲁻뾄𲁻\u0002෕𪳿뾄𜚋񆩕ꮷ\u0002𲁻𢧎뾄檭񪟹෕𔙸\u0002뾄𜚋𝷏񞗣񃀃\u0002ꮷ𝷏\u0002񜼳𪳿뾄෕𴝤\u0002ꮷ뾄\u0002𪳿񞗣𔙸뾄𲁻񕾃񬶱얧𔙸ꮷ𝷏񞗣񃀃\u0002𢧎𪳿෕檭ꮷ񪟹檭෕𔙸񪟹ꮷ񭰂\u0002񜼳뾄෕ꮷ𲁻\u0002𢧎񞗣𪳿񪟹ꮷ񭰂񕾃񬶱𡆯𪳿𪳿𝷏𪳿𲁻\u0002𲁻𝷏񞗣𔙸񋘫\u0002𜚋뾄𗲩뾄𪳿\u0002𢧎෕𲁻𲁻\u0002𲁻񪟹𔙸뾄𜚋ꮷ𔙸񭰂񕾃񬶱𕱧𜚋𔙸뾄𲁻𲁻\u0002뾄촥𢧎𔙸񪟹檭񪟹ꮷ𔙸񭰂\u0002𲁻񪟹𔙸뾄𜚋檭뾄񋘫񕾃񬶱񕴽𜚋\u0002ꮷ뾄\u0002苰෕檭뾄\u0002𝷏苰\u0002෕𮅭񜼳񪟹񃀃񞗣񪟹ꮷ񭰂𑩽\u0002𪳿뾄苰񞗣𲁻뾄\u0002ꮷ뾄\u0002ꮷ뾄𮅭𢧎ꮷ෕ꮷ񪟹𝷏𜚋\u0002ꮷ𝷏\u0002񃀃񞗣뾄𲁻𲁻񕾃񬶱ᔎ뾄𪳿뾄\u0002𲁻𝷏񞗣𔙸񋘫\u0002񜼳뾄\u0002𝷏𜚋뾄𼅀𼅀\u0002෕𜚋񋘫\u0002𢧎𪳿뾄苰뾄𪳿෕񜼳𔙸񭰂\u0002𝷏𜚋𔙸񭰂\u0002𝷏𜚋뾄\u0002𼅀𼅀𝷏񜼳𗲩񪟹𝷏񞗣𲁻\u0002𙙐෕񭰂\u0002ꮷ𝷏\u0002񋘫𝷏\u0002񪟹ꮷ񕾃񬶱얧𔙸ꮷ𝷏񞗣񃀃\u0002ꮷ෕ꮷ\u0002𙙐෕񭰂\u0002𮅭෕񭰂\u0002𜚋𝷏ꮷ\u0002񜼳뾄\u0002𝷏񜼳𗲩񪟹𝷏񞗣𲁻\u0002෕ꮷ\u0002苰񪟹𪳿𲁻ꮷ\u0002񞗣𜚋𔙸뾄𲁻𲁻\u0002񭰂𝷏񞗣񆩕𪳿뾄\u0002񡚉񞗣ꮷ檭񕾃񬶱𺪍𝷏𙙐\u0002񪟹𲁻\u0002񜼳뾄ꮷꮷ뾄𪳿\u0002ꮷ෕𜚋\u0002𜚋뾄𗲩뾄𪳿񕾃񬶱얧𔙸ꮷ𝷏񞗣񃀃\u0002𜚋뾄𗲩뾄𪳿\u0002񪟹𲁻\u0002𝷏苰ꮷ뾄𜚋\u0002񜼳뾄ꮷꮷ뾄𪳿\u0002ꮷ෕𜚋\u0002񕿎𪳿񪟹񃀃ꮷ񕿎\u0002𜚋𝷏𙙐񕾃񬶱񕴽苰\u0002ꮷ뾄\u0002񪟹𮅭𢧎𔙸뾄𮅭뾄𜚋ꮷ෕ꮷ񪟹𝷏𜚋\u0002񪟹𲁻\u0002෕𪳿񋘫\u0002ꮷ𝷏\u0002뾄촥𢧎𔙸෕񪟹𜚋𑩽\u0002񪟹ꮷ񆩕𲁻\u0002෕\u0002񜼳෕񋘫\u0002񪟹񋘫뾄෕񕾃񬶱񕴽苰\u0002ꮷ뾄\u0002񪟹𮅭𢧎𔙸뾄𮅭뾄𜚋ꮷ෕ꮷ񪟹𝷏𜚋\u0002񪟹𲁻\u0002뾄෕𲁻񭰂\u0002ꮷ𝷏\u0002뾄촥𢧎𔙸෕񪟹𜚋𑩽\u0002񪟹ꮷ\u0002𮅭෕񭰂\u0002񜼳뾄\u0002෕\u0002񃀃𝷏𝷏񋘫\u0002񪟹񋘫뾄෕񕾃񬶱𺪍෕𮅭뾄𲁻𢧎෕檭뾄𲁻\u0002෕𪳿뾄\u0002𝷏𜚋뾄\u0002𝷏𜚋𴝤񪟹𜚋񃀃\u0002񃀃𪳿뾄෕ꮷ\u0002񪟹񋘫뾄෕\u0002𼅀𼅀\u0002𔙸뾄ꮷ񆩕𲁻\u0002񋘫𝷏\u0002𮅭𝷏𪳿뾄\u0002𝷏苰\u0002ꮷ𝷏𲁻뾄𼂝񬶱\n"
     ]
    }
   ],
   "source": [
    "encoded_text = rsa_encoder(text = test, public_key = public)\n",
    "print(encoded_text)"
   ]
  },
  {
   "cell_type": "code",
   "execution_count": 12,
   "metadata": {},
   "outputs": [
    {
     "name": "stdout",
     "output_type": "stream",
     "text": [
      "\n",
      "The Zen of Python, by Tim Peters\n",
      "\n",
      "Beautiful is better than ugly.\n",
      "Explicit is better than implicit.\n",
      "Simple is better than complex.\n",
      "Complex is better than complicated.\n",
      "Flat is better than nested.\n",
      "Sparse is better than dense.\n",
      "Readability counts.\n",
      "Special cases aren't special enough to break the rules.\n",
      "Although practicality beats purity.\n",
      "Errors should never pass silently.\n",
      "Unless explicitly silenced.\n",
      "In the face of ambiguity, refuse the temptation to guess.\n",
      "There should be one-- and preferably only one --obvious way to do it.\n",
      "Although that way may not be obvious at first unless you're Dutch.\n",
      "Now is better than never.\n",
      "Although never is often better than *right* now.\n",
      "If the implementation is hard to explain, it's a bad idea.\n",
      "If the implementation is easy to explain, it may be a good idea.\n",
      "Namespaces are one honking great idea -- let's do more of those!\n",
      "\n"
     ]
    }
   ],
   "source": [
    "print(rsa_encoder(text = encoded_text, public_key = private))"
   ]
  },
  {
   "cell_type": "code",
   "execution_count": 13,
   "metadata": {},
   "outputs": [
    {
     "data": {
      "text/plain": [
       "True"
      ]
     },
     "execution_count": 13,
     "metadata": {},
     "output_type": "execute_result"
    }
   ],
   "source": [
    "test == rsa_encoder(text = encoded_text, public_key = private)"
   ]
  },
  {
   "cell_type": "code",
   "execution_count": null,
   "metadata": {},
   "outputs": [],
   "source": []
  }
 ],
 "metadata": {
  "kernelspec": {
   "display_name": "Python 3",
   "language": "python",
   "name": "python3"
  },
  "language_info": {
   "codemirror_mode": {
    "name": "ipython",
    "version": 3
   },
   "file_extension": ".py",
   "mimetype": "text/x-python",
   "name": "python",
   "nbconvert_exporter": "python",
   "pygments_lexer": "ipython3",
   "version": "3.7.4"
  }
 },
 "nbformat": 4,
 "nbformat_minor": 4
}
