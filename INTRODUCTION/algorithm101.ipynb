{
 "cells": [
  {
   "cell_type": "markdown",
   "metadata": {},
   "source": [
    "# アルゴリズム実装にあたっての考え方\n",
    "## Agenda\n",
    "\n",
    "- 問題で要求されていることを言い換える\n",
    "- 知っているアルゴリズムやデータ構造を組み合わせて解く\n",
    "- これらを例題を通じて習得する\n",
    "\n",
    "## Goal\n",
    "\n",
    "- 問われていることを、計算しやすい同値なことに置き換える方法\n",
    "- アルゴリズムを思いつくための考え方\n",
    "- 競技プログラミングで「典型的」と思われる考え方\n",
    "\n",
    "を紹介する"
   ]
  },
  {
   "cell_type": "code",
   "execution_count": 60,
   "metadata": {},
   "outputs": [],
   "source": [
    "import gc\n",
    "import matplotlib.pyplot as plt\n",
    "\n",
    "def clear_all():\n",
    "    # Clears all the variables from the workspace\n",
    "    gl = globals().copy()\n",
    "    for var in gl:\n",
    "        if var in clean_env_var: continue\n",
    "        del globals()[var]\n",
    "    # Garbage collection:\n",
    "    gc.collect()\n",
    "\n",
    "def close_plots():\n",
    "  my_plots = plt.get_fignums()\n",
    "  for j in my_plots:\n",
    "    plt.close(plt.figure(j))\n",
    "\n",
    "clean_env_var = dir()\n",
    "clean_env_var.append('clean_env_var')"
   ]
  },
  {
   "cell_type": "code",
   "execution_count": 61,
   "metadata": {},
   "outputs": [],
   "source": [
    "clear_all()"
   ]
  },
  {
   "cell_type": "markdown",
   "metadata": {},
   "source": [
    "### Hardware"
   ]
  },
  {
   "cell_type": "code",
   "execution_count": 62,
   "metadata": {},
   "outputs": [
    {
     "name": "stdout",
     "output_type": "stream",
     "text": [
      "      Model Identifier: MacBookPro13,1\n",
      "      Processor Name: Dual-Core Intel Core i5\n",
      "      Processor Speed: 2 GHz\n",
      "      Number of Processors: 1\n",
      "      Memory: 16 GB\n"
     ]
    }
   ],
   "source": [
    "%%bash\n",
    "system_profiler SPHardwareDataType | grep -E \\\n",
    "\"Model Identifier\"\\|\"Processor Name\"\\|\"Processor Speed\"\\\n",
    "\\|\"Number of Processors\"\\|\"Memory:\""
   ]
  },
  {
   "cell_type": "markdown",
   "metadata": {},
   "source": [
    "### Python"
   ]
  },
  {
   "cell_type": "code",
   "execution_count": 63,
   "metadata": {},
   "outputs": [
    {
     "name": "stdout",
     "output_type": "stream",
     "text": [
      "Python 3.7.4\n"
     ]
    }
   ],
   "source": [
    "!python -V"
   ]
  },
  {
   "cell_type": "markdown",
   "metadata": {},
   "source": [
    "### Install Packages"
   ]
  },
  {
   "cell_type": "code",
   "execution_count": 64,
   "metadata": {},
   "outputs": [],
   "source": [
    "pass"
   ]
  },
  {
   "cell_type": "markdown",
   "metadata": {},
   "source": [
    "### Import"
   ]
  },
  {
   "cell_type": "code",
   "execution_count": 88,
   "metadata": {},
   "outputs": [],
   "source": [
    "import numpy as np\n",
    "import pandas as pd\n",
    "import math"
   ]
  },
  {
   "cell_type": "markdown",
   "metadata": {},
   "source": [
    "## 1. 順列(n!)の全探索\n",
    "\n",
    "```\n",
    "順列の全探索：\n",
    "\n",
    "n! 通りの順列を生成し、それぞれの場合について処理を行う\n",
    "```"
   ]
  },
  {
   "cell_type": "markdown",
   "metadata": {},
   "source": [
    "### 入力と出力\n",
    "\n",
    "```\n",
    "入力：3\n",
    "出力：\n",
    "0 1 2 \n",
    "0 2 1 \n",
    "1 0 2 \n",
    "1 2 0 \n",
    "2 0 1 \n",
    "2 1 0\n",
    "```"
   ]
  },
  {
   "cell_type": "markdown",
   "metadata": {},
   "source": [
    "### Import"
   ]
  },
  {
   "cell_type": "code",
   "execution_count": 125,
   "metadata": {},
   "outputs": [],
   "source": [
    "import itertools"
   ]
  },
  {
   "cell_type": "markdown",
   "metadata": {},
   "source": [
    "実装"
   ]
  },
  {
   "cell_type": "code",
   "execution_count": 67,
   "metadata": {},
   "outputs": [],
   "source": [
    "#n = int(input())\n",
    "n = 5\n",
    "lis = [x for x in range(n)] # 0からn-1までのリスト\n",
    " \n",
    "permutations_lis = itertools.permutations(lis)# 全ての場合のリストを生成\n",
    "# 以下出力\n",
    "#for one_case in permutations_lis: \n",
    "#    for num in one_case:\n",
    "#        print(num, end=\" \")\n",
    "#    print(\"\")"
   ]
  },
  {
   "cell_type": "code",
   "execution_count": 68,
   "metadata": {},
   "outputs": [
    {
     "data": {
      "text/plain": [
       "[(0, 1, 2, 3, 4),\n",
       " (0, 1, 2, 4, 3),\n",
       " (0, 1, 3, 2, 4),\n",
       " (0, 1, 3, 4, 2),\n",
       " (0, 1, 4, 2, 3),\n",
       " (0, 1, 4, 3, 2),\n",
       " (0, 2, 1, 3, 4),\n",
       " (0, 2, 1, 4, 3),\n",
       " (0, 2, 3, 1, 4),\n",
       " (0, 2, 3, 4, 1)]"
      ]
     },
     "execution_count": 68,
     "metadata": {},
     "output_type": "execute_result"
    }
   ],
   "source": [
    "list(permutations_lis)[:10]"
   ]
  },
  {
   "cell_type": "markdown",
   "metadata": {},
   "source": [
    "### 練習問題 1 : One-Stroke Path\n"
   ]
  },
  {
   "cell_type": "markdown",
   "metadata": {},
   "source": [
    "<img src = './fig/problem1_one_stroke_path_1.jpg'>\n",
    "<img src = './fig/problem1_one_stroke_path_2.jpg'>\n",
    "<img src = './fig/problem1_one_stroke_path_3.jpg'>\n",
    "<img src = './fig/problem1_one_stroke_path_4.jpg'>"
   ]
  },
  {
   "cell_type": "markdown",
   "metadata": {},
   "source": [
    "#### Input\n",
    "\n",
    "```\n",
    "3 3\n",
    "1 2\n",
    "1 3\n",
    "2 3\n",
    "```\n",
    "#### Output\n",
    "`2`\n"
   ]
  },
  {
   "cell_type": "markdown",
   "metadata": {},
   "source": [
    "Import"
   ]
  },
  {
   "cell_type": "code",
   "execution_count": 69,
   "metadata": {},
   "outputs": [],
   "source": [
    "import itertools"
   ]
  },
  {
   "cell_type": "markdown",
   "metadata": {},
   "source": [
    "Input"
   ]
  },
  {
   "cell_type": "code",
   "execution_count": 70,
   "metadata": {},
   "outputs": [
    {
     "name": "stdin",
     "output_type": "stream",
     "text": [
      " 3 3\n",
      " 1 2\n",
      " 1 3\n",
      " 2 3\n"
     ]
    }
   ],
   "source": [
    "N,M = map(int,input().split())\n",
    "START_NODE = 0\n",
    "path = [[False] * N for i in range(N)]\n",
    "\n",
    "for i in range(M):\n",
    "    a,b = map(int,input().split())\n",
    "    a -= 1\n",
    "    b -= 1\n",
    "    path[a][b] = True\n",
    "    path[b][a] = True"
   ]
  },
  {
   "cell_type": "code",
   "execution_count": 71,
   "metadata": {},
   "outputs": [
    {
     "data": {
      "text/plain": [
       "[[False, True, True], [True, False, True], [True, True, False]]"
      ]
     },
     "execution_count": 71,
     "metadata": {},
     "output_type": "execute_result"
    }
   ],
   "source": [
    "path"
   ]
  },
  {
   "cell_type": "code",
   "execution_count": 75,
   "metadata": {},
   "outputs": [
    {
     "name": "stdout",
     "output_type": "stream",
     "text": [
      "2\n"
     ]
    }
   ],
   "source": [
    "ans = 0\n",
    "for a in itertools.permutations(range(N)):  \n",
    "    ### START地点が与えられたノード以外の場合はskip\n",
    "    if a[0] != START_NODE: \n",
    "        continue\n",
    "    plus = 1\n",
    "    ### 一つでもPATHがFalseならば 0 \n",
    "    for i in range(N-1):\n",
    "        plus = plus * path[a[i]][a[i+1]]\n",
    "    ans += plus\n",
    "print(ans)"
   ]
  },
  {
   "cell_type": "markdown",
   "metadata": {},
   "source": [
    "#### Submission code"
   ]
  },
  {
   "cell_type": "markdown",
   "metadata": {},
   "source": [
    "```\n",
    "import itertools\n",
    " \n",
    "N,M = map(int,input().split())\n",
    "START_NODE = 0\n",
    "path = [[False] * N for i in range(N)]\n",
    " \n",
    "for i in range(M):\n",
    "    a,b = map(int,input().split())\n",
    "    a -= 1\n",
    "    b -= 1\n",
    "    path[a][b] = True\n",
    "    path[b][a] = True\n",
    "    \n",
    "ans = 0\n",
    "for a in itertools.permutations(range(N)):  \n",
    "    ### START地点が与えられたノード以外の場合はskip\n",
    "    if a[0] != START_NODE: \n",
    "        break\n",
    "    plus = 1\n",
    "    ### 一つでもPATHがFalseならば0 \n",
    "    for i in range(N-1):\n",
    "        plus = plus * path[a[i]][a[i+1]]\n",
    "    ans += plus\n",
    "print(ans)\n",
    "```"
   ]
  },
  {
   "cell_type": "markdown",
   "metadata": {},
   "source": [
    "### 練習問題 2: Average Length\n",
    "\n",
    "<img src = \"./fig/average_length.jpg\">\n"
   ]
  },
  {
   "cell_type": "markdown",
   "metadata": {},
   "source": [
    "#### Test\n",
    "```\n",
    "8\n",
    "-406 10\n",
    "512 859\n",
    "494 362\n",
    "-955 -475\n",
    "128 553\n",
    "-986 -885\n",
    "763 77\n",
    "449 310\n",
    "```\n",
    "\n",
    "### Ouput\n",
    "`7641.9817824387`"
   ]
  },
  {
   "cell_type": "code",
   "execution_count": 98,
   "metadata": {},
   "outputs": [],
   "source": [
    "def calculate_distance(x1, x2):\n",
    "    l2_norm = (x1[0] - x2[0])**2 + (x1[1] - x2[1])**2\n",
    "    return l2_norm**(1/2)"
   ]
  },
  {
   "cell_type": "code",
   "execution_count": 110,
   "metadata": {},
   "outputs": [
    {
     "name": "stdin",
     "output_type": "stream",
     "text": [
      " 8\n",
      " -406 10\n",
      " 512 859\n",
      " 494 362\n",
      " -955 -475\n",
      " 128 553\n",
      " -986 -885\n",
      " 763 77\n",
      " 449 310\n"
     ]
    }
   ],
   "source": [
    "N = int(input())\n",
    "point = []\n",
    "for i in range(N):\n",
    "    a,b = map(int,input().split())\n",
    "    point.append([a, b])\n",
    "    "
   ]
  },
  {
   "cell_type": "code",
   "execution_count": 167,
   "metadata": {},
   "outputs": [
    {
     "data": {
      "text/plain": [
       "7641.981782438673"
      ]
     },
     "execution_count": 167,
     "metadata": {},
     "output_type": "execute_result"
    }
   ],
   "source": [
    "res = []\n",
    "for a in itertools.permutations(range(N)):\n",
    "    distance = 0\n",
    "    for i in range(N-1):\n",
    "        start, end = a[i], a[i+1]\n",
    "        distance += calculate_distance(point[start], point[end])\n",
    "    res.append(distance)\n",
    "np.mean(res)"
   ]
  },
  {
   "cell_type": "markdown",
   "metadata": {},
   "source": [
    "#### 解答2\n",
    "\n",
    "<img src = './fig/problem_1_on_average_length.jpg'>\n"
   ]
  },
  {
   "cell_type": "code",
   "execution_count": 185,
   "metadata": {},
   "outputs": [
    {
     "name": "stdout",
     "output_type": "stream",
     "text": [
      "7641.981782438674\n"
     ]
    }
   ],
   "source": [
    "combi_list = itertools.combinations(point, 2)\n",
    "a, b = list(zip(*combi_list))\n",
    "dist_sum = 0\n",
    "for i in range(len(a)):\n",
    "        dist_sum += calculate_distance(a[i], b[i])\n",
    "print(dist_sum*2/N)"
   ]
  },
  {
   "cell_type": "markdown",
   "metadata": {},
   "source": [
    "### 練習問題3 Count order\n",
    "\n",
    "<img src = './fig/problem_3_count_order.jpg'>"
   ]
  },
  {
   "cell_type": "code",
   "execution_count": 219,
   "metadata": {},
   "outputs": [],
   "source": [
    "N = 8\n",
    "P = tuple(map(int, list(\"7 3 5 4 2 1 6 8\".split())))\n",
    "Q = tuple(map(int, list(\"3 8 2 5 4 6 7 1\".split())))"
   ]
  },
  {
   "cell_type": "code",
   "execution_count": 224,
   "metadata": {},
   "outputs": [
    {
     "data": {
      "text/plain": [
       "17517"
      ]
     },
     "execution_count": 224,
     "metadata": {},
     "output_type": "execute_result"
    }
   ],
   "source": [
    "items = list(itertools.permutations([i for i in range(1, N+1)], N))\n",
    "a = [i for i, tupl in enumerate(items) if tupl in (P, Q)]\n",
    "abs(a[1] - a[0])"
   ]
  },
  {
   "cell_type": "markdown",
   "metadata": {},
   "source": [
    "### REMARKS\n",
    "\n",
    "- permuation searchは N = 8 くらいまでが目安"
   ]
  },
  {
   "cell_type": "code",
   "execution_count": null,
   "metadata": {},
   "outputs": [],
   "source": []
  }
 ],
 "metadata": {
  "kernelspec": {
   "display_name": "Python 3",
   "language": "python",
   "name": "python3"
  },
  "language_info": {
   "codemirror_mode": {
    "name": "ipython",
    "version": 3
   },
   "file_extension": ".py",
   "mimetype": "text/x-python",
   "name": "python",
   "nbconvert_exporter": "python",
   "pygments_lexer": "ipython3",
   "version": "3.7.4"
  }
 },
 "nbformat": 4,
 "nbformat_minor": 4
}
